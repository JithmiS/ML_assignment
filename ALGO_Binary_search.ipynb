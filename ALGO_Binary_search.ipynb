{
  "nbformat": 4,
  "nbformat_minor": 0,
  "metadata": {
    "colab": {
      "name": "ALGO-Binary search.ipynb",
      "provenance": [],
      "collapsed_sections": [],
      "authorship_tag": "ABX9TyOTA6bHhdR+/0TryzzEymPt",
      "include_colab_link": true
    },
    "kernelspec": {
      "name": "python3",
      "display_name": "Python 3"
    }
  },
  "cells": [
    {
      "cell_type": "markdown",
      "metadata": {
        "id": "view-in-github",
        "colab_type": "text"
      },
      "source": [
        "<a href=\"https://colab.research.google.com/github/JithmiS/ML_assignment/blob/master/ALGO_Binary_search.ipynb\" target=\"_parent\"><img src=\"https://colab.research.google.com/assets/colab-badge.svg\" alt=\"Open In Colab\"/></a>"
      ]
    },
    {
      "cell_type": "code",
      "metadata": {
        "id": "18sWOjMuLu5d",
        "colab_type": "code",
        "colab": {
          "base_uri": "https://localhost:8080/",
          "height": 54
        },
        "outputId": "020863e5-8f6b-46a9-a33c-902f1c603256"
      },
      "source": [
        "\"\"\"\n",
        "def binarySearch(array, x):\n",
        "  low = 0\n",
        "  high = len(array) - 1\n",
        "\n",
        "  while (low <= high):\n",
        "    mid = (low + high) // 2\n",
        "\n",
        "    if(array[mid] < x):\n",
        "      low = mid + 1\n",
        "    elif (array[mid] > x):\n",
        "      high = mid - 1\n",
        "    else:\n",
        "      return mid\n",
        "  return -1 #error  \n",
        "\"\"\""
      ],
      "execution_count": 134,
      "outputs": [
        {
          "output_type": "execute_result",
          "data": {
            "text/plain": [
              "'\\ndef binarySearch(array, x):\\n  low = 0\\n  high = len(array) - 1\\n\\n  while (low <= high):\\n    mid = (low + high) // 2\\n\\n    if(array[mid] < x):\\n      low = mid + 1\\n    elif (array[mid] > x):\\n      high = mid - 1\\n    else:\\n      return mid\\n  return -1 #error  \\n'"
            ]
          },
          "metadata": {
            "tags": []
          },
          "execution_count": 134
        }
      ]
    },
    {
      "cell_type": "code",
      "metadata": {
        "id": "A5KBrUWyAZMw",
        "colab_type": "code",
        "colab": {}
      },
      "source": [
        "def binarySearch(arr, x): \n",
        "\tlow = 0\n",
        "\thigh = len(arr) - 1\n",
        "\tmid = 0\n",
        "\n",
        "\twhile low <= high: \n",
        "\n",
        "\t\tmid = (high + low) // 2\n",
        "\n",
        "\t\tif arr[mid] < x: \n",
        "\t\t\tlow = mid + 1\n",
        "\n",
        "\t\telif arr[mid] > x: \n",
        "\t\t\thigh = mid - 1\n",
        "\n",
        "\t\telse: \n",
        "\t\t\treturn mid \n",
        " \n",
        "\treturn -1\n"
      ],
      "execution_count": 135,
      "outputs": []
    },
    {
      "cell_type": "code",
      "metadata": {
        "id": "ObPKZ7p5vFWH",
        "colab_type": "code",
        "colab": {}
      },
      "source": [
        "def get_negative_array(N, multiplier):\n",
        "\n",
        "  negative_arr = []\n",
        "  end = multiplier*N\n",
        "  divider = end//200\n",
        "\n",
        "  for x in range(0,end,divider):\n",
        "    if(len(negative_arr)<200):\n",
        "      negative_arr.append(x)\n",
        "\n",
        "  return negative_arr\n"
      ],
      "execution_count": 136,
      "outputs": []
    },
    {
      "cell_type": "code",
      "metadata": {
        "id": "-M8Ybj6Rq12C",
        "colab_type": "code",
        "colab": {}
      },
      "source": [
        "def get_sample_sorted_array(N, multiplier, neg_array):\n",
        "\n",
        "  array = []\n",
        "  end = (multiplier*N) + N*200\n",
        "\n",
        "  for x in range(0,end,multiplier):\n",
        "    if((len(array)<N) and x not in neg_array):\n",
        "      array.append(x)\n",
        "\n",
        "  return array\n",
        "\n"
      ],
      "execution_count": 137,
      "outputs": []
    },
    {
      "cell_type": "code",
      "metadata": {
        "id": "A7lmOPsIto8C",
        "colab_type": "code",
        "colab": {}
      },
      "source": [
        "def get_positive_array(N, array):\n",
        "\n",
        "  positive_arr = []\n",
        "  divider = len(array)//800\n",
        "\n",
        "  for x in range(0,N):\n",
        "    if(x%divider==0 and len(positive_arr)<800):\n",
        "      positive_arr.append(array[x])\n",
        "\n",
        "  return positive_arr"
      ],
      "execution_count": 138,
      "outputs": []
    },
    {
      "cell_type": "code",
      "metadata": {
        "id": "t-Bvm-UbuKJ3",
        "colab_type": "code",
        "colab": {
          "base_uri": "https://localhost:8080/",
          "height": 204
        },
        "outputId": "21a413f7-aa11-45ab-c046-ae4fb945efc3"
      },
      "source": [
        "# N = 10000\n",
        "\n",
        "print(\"N=10000\\n-------------\")\n",
        "\n",
        "neg_10000 = get_negative_array(10000, 3)\n",
        "sorted_array_10000 = get_sample_sorted_array(10000, 3, neg_10000)\n",
        "pos_10000 = get_positive_array(10000, sorted_array_10000)\n",
        "\n",
        "search_array_10000 = (neg_10000 + pos_10000)\n",
        "print(len(search_array_10000))\n",
        "\n",
        "# N = 100000\n",
        "\n",
        "print(\"\\nN=100000\\n-------------\")\n",
        "\n",
        "neg_100000 = get_negative_array(100000, 3)\n",
        "sorted_array_100000 = get_sample_sorted_array(100000, 3, neg_100000)\n",
        "pos_100000 = get_positive_array(100000, sorted_array_100000)\n",
        "\n",
        "search_array_100000 = (neg_100000 + pos_100000)\n",
        "print(len(search_array_100000))\n",
        "\n",
        "# N = 1000000\n",
        "\n",
        "print(\"\\nN=1000000\\n-------------\")\n",
        "\n",
        "neg_1000000 = get_negative_array(1000000, 3)\n",
        "sorted_array_1000000 = get_sample_sorted_array(1000000, 3, neg_1000000)\n",
        "pos_1000000 = get_positive_array(1000000, sorted_array_1000000)\n",
        "\n",
        "search_array_1000000 = (neg_10000 + pos_1000000)\n",
        "print(len(search_array_1000000))"
      ],
      "execution_count": 146,
      "outputs": [
        {
          "output_type": "stream",
          "text": [
            "N=10000\n",
            "-------------\n",
            "1000\n",
            "\n",
            "N=100000\n",
            "-------------\n",
            "1000\n",
            "\n",
            "N=1000000\n",
            "-------------\n",
            "1000\n"
          ],
          "name": "stdout"
        }
      ]
    },
    {
      "cell_type": "code",
      "metadata": {
        "id": "G58C2n5ZZdJD",
        "colab_type": "code",
        "colab": {}
      },
      "source": [
        "import datetime\n",
        "\n",
        "def calculate_search_time(search_element_array, sorted_list):\n",
        "\n",
        "  start_time = datetime.datetime.now()\n",
        "\n",
        "  for element in search_element_array:\n",
        "    binarySearch(sorted_list, element)\n",
        "\n",
        "  end_time = datetime.datetime.now() \n",
        "\n",
        "  time_diff = (end_time - start_time)\n",
        "  execution_time = time_diff.total_seconds() * 1000000\n",
        "\n",
        "  return execution_time"
      ],
      "execution_count": 140,
      "outputs": []
    },
    {
      "cell_type": "code",
      "metadata": {
        "id": "mzSqZp3n8Bxn",
        "colab_type": "code",
        "colab": {}
      },
      "source": [
        "from random import randint \n",
        "\n",
        "def randomizedBinarySearch(arr, l, r, x): \n",
        "    while (l <= r): \n",
        "        m = randint(l,r)  \n",
        "  \n",
        "        if (arr[m] == x): \n",
        "            return m \n",
        "  \n",
        "        if (arr[m] < x): \n",
        "            l = m + 1\n",
        "\n",
        "        else: \n",
        "            r = m - 1\n",
        "\n",
        "    return -1\n",
        " "
      ],
      "execution_count": 147,
      "outputs": []
    },
    {
      "cell_type": "code",
      "metadata": {
        "id": "-6jiAgSA8bEB",
        "colab_type": "code",
        "colab": {}
      },
      "source": [
        "import datetime\n",
        "\n",
        "def calculate_randomized_search_time(search_element_array, sorted_list):\n",
        "\n",
        "  n = len(sorted_list)\n",
        "  \n",
        "  start_time = datetime.datetime.now()\n",
        "\n",
        "  for x in search_element_array:\n",
        "    randomizedBinarySearch(sorted_list, 0, n-1, x)\n",
        "\n",
        "  end_time = datetime.datetime.now() \n",
        "\n",
        "  time_diff = (end_time - start_time)\n",
        "  execution_time = time_diff.total_seconds() * 1000000\n",
        "\n",
        "  return execution_time   "
      ],
      "execution_count": 148,
      "outputs": []
    },
    {
      "cell_type": "code",
      "metadata": {
        "id": "39M6nEmS1N_s",
        "colab_type": "code",
        "colab": {
          "base_uri": "https://localhost:8080/",
          "height": 136
        },
        "outputId": "99e94421-b88c-48aa-97ca-ac41b562dca3"
      },
      "source": [
        "print(\"----------------------------------------------\")\n",
        "print(\"       N      |   Time (BS)   |   Time(RS)    \")\n",
        "print(\"----------------------------------------------\")\n",
        "print(\"      10000   |   \"+ str(calculate_search_time(search_array_10000, sorted_array_10000)) +\"      |    \" +  \n",
        "      str(calculate_randomized_search_time(search_array_10000, sorted_array_10000)))\n",
        "print(\"      100000  |   \"+ str(calculate_search_time(search_array_100000, sorted_array_100000)) +\"      |    \" + \n",
        "      str(calculate_randomized_search_time(search_array_100000, sorted_array_100000)))\n",
        "print(\"      1000000 |   \"+ str(calculate_search_time(search_array_1000000, sorted_array_1000000)) +\"      |    \" +\n",
        "      str(calculate_randomized_search_time(search_array_1000000, sorted_array_1000000)))\n",
        "print(\"----------------------------------------------\")"
      ],
      "execution_count": 116,
      "outputs": [
        {
          "output_type": "stream",
          "text": [
            "----------------------------------------------\n",
            "       N      |   Time (BS)   |   Time(RS)    \n",
            "----------------------------------------------\n",
            "      10000   |   5164.0      |    26758.0\n",
            "      100000  |   4283.0      |    33483.0\n",
            "      1000000 |   6628.0      |    39307.0\n",
            "----------------------------------------------\n"
          ],
          "name": "stdout"
        }
      ]
    },
    {
      "cell_type": "code",
      "metadata": {
        "id": "M1X10T9G_Pjr",
        "colab_type": "code",
        "colab": {
          "base_uri": "https://localhost:8080/",
          "height": 136
        },
        "outputId": "9d80a91c-5bea-4656-fcd4-75411595c2a0"
      },
      "source": [
        "print(\"------------------------------\")\n",
        "print(\"       N      |   Time (BS)   \")\n",
        "print(\"------------------------------\")\n",
        "print(\"      10000   |   \"+ str(calculate_search_time(search_array_10000, sorted_array_10000)) )\n",
        "print(\"      100000  |   \"+ str(calculate_search_time(search_array_100000, sorted_array_100000)))\n",
        "print(\"      1000000 |   \"+ str(calculate_search_time(search_array_1000000, sorted_array_1000000)))\n",
        "print(\"------------------------------\")"
      ],
      "execution_count": 141,
      "outputs": [
        {
          "output_type": "stream",
          "text": [
            "------------------------------\n",
            "       N      |   Time (BS)   \n",
            "------------------------------\n",
            "      10000   |   4372.0\n",
            "      100000  |   7034.0\n",
            "      1000000 |   6877.0\n",
            "------------------------------\n"
          ],
          "name": "stdout"
        }
      ]
    },
    {
      "cell_type": "code",
      "metadata": {
        "id": "xWdzdlHp_glg",
        "colab_type": "code",
        "colab": {
          "base_uri": "https://localhost:8080/",
          "height": 136
        },
        "outputId": "12ccff6d-25e1-4a01-f100-40a582dde9ec"
      },
      "source": [
        "print(\"-------------------------------\")\n",
        "print(\"       N      |   Time (RS)    \")\n",
        "print(\"-------------------------------\")\n",
        "print(\"      10000   |   \"+ \n",
        "      str(calculate_randomized_search_time(search_array_10000, sorted_array_10000)))\n",
        "print(\"      100000  |   \"+  \n",
        "      str(calculate_randomized_search_time(search_array_100000, sorted_array_100000)))\n",
        "print(\"      1000000 |   \"+ \n",
        "      str(calculate_randomized_search_time(search_array_1000000, sorted_array_1000000)))\n",
        "print(\"-------------------------------\")"
      ],
      "execution_count": 149,
      "outputs": [
        {
          "output_type": "stream",
          "text": [
            "-------------------------------\n",
            "       N      |   Time (RS)    \n",
            "-------------------------------\n",
            "      10000   |   28836.0\n",
            "      100000  |   32085.000000000004\n",
            "      1000000 |   37221.0\n",
            "-------------------------------\n"
          ],
          "name": "stdout"
        }
      ]
    }
  ]
}